{
  "nbformat": 4,
  "nbformat_minor": 0,
  "metadata": {
    "colab": {
      "name": "Currency Convertor using APIs.ipynb",
      "provenance": [],
      "collapsed_sections": [],
      "authorship_tag": "ABX9TyNbtgz6aMsYyynUdboOCnmF",
      "include_colab_link": true
    },
    "kernelspec": {
      "name": "python3",
      "display_name": "Python 3"
    }
  },
  "cells": [
    {
      "cell_type": "markdown",
      "metadata": {
        "id": "view-in-github",
        "colab_type": "text"
      },
      "source": [
        "<a href=\"https://colab.research.google.com/github/tanaymukherjee/Working-with-APIs-in-Python/blob/master/Currency%20Convertor/Currency_Convertor_using_APIs.ipynb\" target=\"_parent\"><img src=\"https://colab.research.google.com/assets/colab-badge.svg\" alt=\"Open In Colab\"/></a>"
      ]
    },
    {
      "cell_type": "markdown",
      "metadata": {
        "id": "seEJTZKWwTOU",
        "colab_type": "text"
      },
      "source": [
        "# Extracting data on currency exchange rates\n",
        "\n",
        "### Pulling data from public APIs (without registration) - GET request\n",
        "\n"
      ]
    },
    {
      "cell_type": "code",
      "metadata": {
        "id": "d4MaU7ihwnCb",
        "colab_type": "code",
        "colab": {}
      },
      "source": [
        "# loading the packages\n",
        "# requests provides us with the capabilities of sending an HTTP request to a server\n",
        "import requests"
      ],
      "execution_count": 0,
      "outputs": []
    },
    {
      "cell_type": "markdown",
      "metadata": {
        "id": "9a8NZax_wVEt",
        "colab_type": "text"
      },
      "source": [
        "### Sending a GET request"
      ]
    },
    {
      "cell_type": "code",
      "metadata": {
        "id": "nhbX7YVqwvHi",
        "colab_type": "code",
        "colab": {}
      },
      "source": [
        "# Define the base URL\n",
        "# Base URL: the part of the URL common to all requests, not containing the parameters\n",
        "base_url = \"https://api.exchangeratesapi.io/latest\""
      ],
      "execution_count": 0,
      "outputs": []
    },
    {
      "cell_type": "code",
      "metadata": {
        "id": "1VzNOuqiw1Pf",
        "colab_type": "code",
        "colab": {}
      },
      "source": [
        "# We can make a GET request to this API endpoint with requests.get\n",
        "response = requests.get(base_url)\n",
        "\n",
        "# This method returns the response from the server\n",
        "# We store this response in a variable for future processing"
      ],
      "execution_count": 0,
      "outputs": []
    },
    {
      "cell_type": "markdown",
      "metadata": {
        "id": "CYEBY4Aow4Yj",
        "colab_type": "text"
      },
      "source": [
        "### Investigating the response"
      ]
    },
    {
      "cell_type": "code",
      "metadata": {
        "id": "Xtr4Mojqw60a",
        "colab_type": "code",
        "outputId": "20b45667-b68e-4d57-8fbe-0d89b861f23a",
        "colab": {
          "base_uri": "https://localhost:8080/",
          "height": 35
        }
      },
      "source": [
        "# Checking if the request went through ok\n",
        "response.ok"
      ],
      "execution_count": 0,
      "outputs": [
        {
          "output_type": "execute_result",
          "data": {
            "text/plain": [
              "True"
            ]
          },
          "metadata": {
            "tags": []
          },
          "execution_count": 5
        }
      ]
    },
    {
      "cell_type": "code",
      "metadata": {
        "id": "DBKRA-Klw9d6",
        "colab_type": "code",
        "outputId": "0e2473bb-a636-4daf-cd0e-fb2b682fc109",
        "colab": {
          "base_uri": "https://localhost:8080/",
          "height": 35
        }
      },
      "source": [
        "# Checking the status code of the response\n",
        "response.status_code"
      ],
      "execution_count": 0,
      "outputs": [
        {
          "output_type": "execute_result",
          "data": {
            "text/plain": [
              "200"
            ]
          },
          "metadata": {
            "tags": []
          },
          "execution_count": 6
        }
      ]
    },
    {
      "cell_type": "code",
      "metadata": {
        "id": "vsqXzrG1w_PL",
        "colab_type": "code",
        "outputId": "5dc10ac6-ef16-45a7-e180-44c340f08b46",
        "colab": {
          "base_uri": "https://localhost:8080/",
          "height": 55
        }
      },
      "source": [
        "# Inspecting the content body of the response (as a regular 'string')\n",
        "response.text"
      ],
      "execution_count": 0,
      "outputs": [
        {
          "output_type": "execute_result",
          "data": {
            "text/plain": [
              "'{\"rates\":{\"CAD\":1.5359,\"HKD\":8.4391,\"ISK\":156.5,\"PHP\":55.414,\"DKK\":7.4619,\"HUF\":349.56,\"CZK\":27.053,\"AUD\":1.7266,\"RON\":4.8373,\"SEK\":10.8895,\"IDR\":17089.8,\"INR\":83.705,\"BRL\":5.699,\"RUB\":80.621,\"HRK\":7.601,\"JPY\":117.12,\"THB\":35.56,\"CHF\":1.0516,\"SGD\":1.5539,\"PLN\":4.5288,\"BGN\":1.9558,\"TRY\":7.5506,\"CNY\":7.6991,\"NOK\":11.4145,\"NZD\":1.821,\"ZAR\":20.2373,\"USD\":1.0888,\"MXN\":26.2939,\"ILS\":3.9082,\"GBP\":0.87163,\"KRW\":1334.51,\"MYR\":4.7655},\"base\":\"EUR\",\"date\":\"2020-04-16\"}'"
            ]
          },
          "metadata": {
            "tags": []
          },
          "execution_count": 7
        }
      ]
    },
    {
      "cell_type": "code",
      "metadata": {
        "id": "RMwVXQuLxEEb",
        "colab_type": "code",
        "outputId": "0c4b93cd-84c9-4213-b5a0-0409b1448d5f",
        "colab": {
          "base_uri": "https://localhost:8080/",
          "height": 55
        }
      },
      "source": [
        "# Inspecting the content of the response (in 'bytes' format)\n",
        "response.content"
      ],
      "execution_count": 0,
      "outputs": [
        {
          "output_type": "execute_result",
          "data": {
            "text/plain": [
              "b'{\"rates\":{\"CAD\":1.5359,\"HKD\":8.4391,\"ISK\":156.5,\"PHP\":55.414,\"DKK\":7.4619,\"HUF\":349.56,\"CZK\":27.053,\"AUD\":1.7266,\"RON\":4.8373,\"SEK\":10.8895,\"IDR\":17089.8,\"INR\":83.705,\"BRL\":5.699,\"RUB\":80.621,\"HRK\":7.601,\"JPY\":117.12,\"THB\":35.56,\"CHF\":1.0516,\"SGD\":1.5539,\"PLN\":4.5288,\"BGN\":1.9558,\"TRY\":7.5506,\"CNY\":7.6991,\"NOK\":11.4145,\"NZD\":1.821,\"ZAR\":20.2373,\"USD\":1.0888,\"MXN\":26.2939,\"ILS\":3.9082,\"GBP\":0.87163,\"KRW\":1334.51,\"MYR\":4.7655},\"base\":\"EUR\",\"date\":\"2020-04-16\"}'"
            ]
          },
          "metadata": {
            "tags": []
          },
          "execution_count": 8
        }
      ]
    },
    {
      "cell_type": "markdown",
      "metadata": {
        "id": "DuGaKRJDxMdr",
        "colab_type": "text"
      },
      "source": [
        "### Working with JSON"
      ]
    },
    {
      "cell_type": "code",
      "metadata": {
        "id": "rPbC1apRxJ6C",
        "colab_type": "code",
        "outputId": "04a9667b-f649-41e4-9e71-41eba753401e",
        "colab": {
          "base_uri": "https://localhost:8080/",
          "height": 615
        }
      },
      "source": [
        "# Requests has in-build method to directly convert the response to JSON format\n",
        "response.json()"
      ],
      "execution_count": 0,
      "outputs": [
        {
          "output_type": "execute_result",
          "data": {
            "text/plain": [
              "{'base': 'EUR',\n",
              " 'date': '2020-04-16',\n",
              " 'rates': {'AUD': 1.7266,\n",
              "  'BGN': 1.9558,\n",
              "  'BRL': 5.699,\n",
              "  'CAD': 1.5359,\n",
              "  'CHF': 1.0516,\n",
              "  'CNY': 7.6991,\n",
              "  'CZK': 27.053,\n",
              "  'DKK': 7.4619,\n",
              "  'GBP': 0.87163,\n",
              "  'HKD': 8.4391,\n",
              "  'HRK': 7.601,\n",
              "  'HUF': 349.56,\n",
              "  'IDR': 17089.8,\n",
              "  'ILS': 3.9082,\n",
              "  'INR': 83.705,\n",
              "  'ISK': 156.5,\n",
              "  'JPY': 117.12,\n",
              "  'KRW': 1334.51,\n",
              "  'MXN': 26.2939,\n",
              "  'MYR': 4.7655,\n",
              "  'NOK': 11.4145,\n",
              "  'NZD': 1.821,\n",
              "  'PHP': 55.414,\n",
              "  'PLN': 4.5288,\n",
              "  'RON': 4.8373,\n",
              "  'RUB': 80.621,\n",
              "  'SEK': 10.8895,\n",
              "  'SGD': 1.5539,\n",
              "  'THB': 35.56,\n",
              "  'TRY': 7.5506,\n",
              "  'USD': 1.0888,\n",
              "  'ZAR': 20.2373}}"
            ]
          },
          "metadata": {
            "tags": []
          },
          "execution_count": 9
        }
      ]
    },
    {
      "cell_type": "code",
      "metadata": {
        "id": "ra6AUCCcxSeQ",
        "colab_type": "code",
        "outputId": "68dbf977-4f2d-433f-b43e-5525c6ca95b2",
        "colab": {
          "base_uri": "https://localhost:8080/",
          "height": 35
        }
      },
      "source": [
        "# In Python, this JSON is stored as a dictionary\n",
        "type(response.json())"
      ],
      "execution_count": 0,
      "outputs": [
        {
          "output_type": "execute_result",
          "data": {
            "text/plain": [
              "dict"
            ]
          },
          "metadata": {
            "tags": []
          },
          "execution_count": 10
        }
      ]
    },
    {
      "cell_type": "code",
      "metadata": {
        "id": "dh5OuNXBxc5I",
        "colab_type": "code",
        "colab": {}
      },
      "source": [
        "# A useful library for JSON manipulation and pretty print\n",
        "import json"
      ],
      "execution_count": 0,
      "outputs": []
    },
    {
      "cell_type": "code",
      "metadata": {
        "id": "5IC0XSxpxl8a",
        "colab_type": "code",
        "outputId": "05b4489e-9d19-4e62-cd95-5daa02a78e0b",
        "colab": {
          "base_uri": "https://localhost:8080/",
          "height": 55
        }
      },
      "source": [
        "# .dumps() has options to make the string 'prettier', more readable\n",
        "# We can choose the number of spaces to be used as indentation\n",
        "json.dumps(response.json(), indent=4)"
      ],
      "execution_count": 0,
      "outputs": [
        {
          "output_type": "execute_result",
          "data": {
            "text/plain": [
              "'{\\n    \"rates\": {\\n        \"CAD\": 1.5359,\\n        \"HKD\": 8.4391,\\n        \"ISK\": 156.5,\\n        \"PHP\": 55.414,\\n        \"DKK\": 7.4619,\\n        \"HUF\": 349.56,\\n        \"CZK\": 27.053,\\n        \"AUD\": 1.7266,\\n        \"RON\": 4.8373,\\n        \"SEK\": 10.8895,\\n        \"IDR\": 17089.8,\\n        \"INR\": 83.705,\\n        \"BRL\": 5.699,\\n        \"RUB\": 80.621,\\n        \"HRK\": 7.601,\\n        \"JPY\": 117.12,\\n        \"THB\": 35.56,\\n        \"CHF\": 1.0516,\\n        \"SGD\": 1.5539,\\n        \"PLN\": 4.5288,\\n        \"BGN\": 1.9558,\\n        \"TRY\": 7.5506,\\n        \"CNY\": 7.6991,\\n        \"NOK\": 11.4145,\\n        \"NZD\": 1.821,\\n        \"ZAR\": 20.2373,\\n        \"USD\": 1.0888,\\n        \"MXN\": 26.2939,\\n        \"ILS\": 3.9082,\\n        \"GBP\": 0.87163,\\n        \"KRW\": 1334.51,\\n        \"MYR\": 4.7655\\n    },\\n    \"base\": \"EUR\",\\n    \"date\": \"2020-04-16\"\\n}'"
            ]
          },
          "metadata": {
            "tags": []
          },
          "execution_count": 12
        }
      ]
    },
    {
      "cell_type": "code",
      "metadata": {
        "id": "VbgXAFm_xshr",
        "colab_type": "code",
        "outputId": "1e131294-d821-456d-94fb-fc151773e42d",
        "colab": {
          "base_uri": "https://localhost:8080/",
          "height": 686
        }
      },
      "source": [
        "# In order to visualize these changes, we need to print the string\n",
        "print(json.dumps(response.json(), indent=4))"
      ],
      "execution_count": 0,
      "outputs": [
        {
          "output_type": "stream",
          "text": [
            "{\n",
            "    \"rates\": {\n",
            "        \"CAD\": 1.5359,\n",
            "        \"HKD\": 8.4391,\n",
            "        \"ISK\": 156.5,\n",
            "        \"PHP\": 55.414,\n",
            "        \"DKK\": 7.4619,\n",
            "        \"HUF\": 349.56,\n",
            "        \"CZK\": 27.053,\n",
            "        \"AUD\": 1.7266,\n",
            "        \"RON\": 4.8373,\n",
            "        \"SEK\": 10.8895,\n",
            "        \"IDR\": 17089.8,\n",
            "        \"INR\": 83.705,\n",
            "        \"BRL\": 5.699,\n",
            "        \"RUB\": 80.621,\n",
            "        \"HRK\": 7.601,\n",
            "        \"JPY\": 117.12,\n",
            "        \"THB\": 35.56,\n",
            "        \"CHF\": 1.0516,\n",
            "        \"SGD\": 1.5539,\n",
            "        \"PLN\": 4.5288,\n",
            "        \"BGN\": 1.9558,\n",
            "        \"TRY\": 7.5506,\n",
            "        \"CNY\": 7.6991,\n",
            "        \"NOK\": 11.4145,\n",
            "        \"NZD\": 1.821,\n",
            "        \"ZAR\": 20.2373,\n",
            "        \"USD\": 1.0888,\n",
            "        \"MXN\": 26.2939,\n",
            "        \"ILS\": 3.9082,\n",
            "        \"GBP\": 0.87163,\n",
            "        \"KRW\": 1334.51,\n",
            "        \"MYR\": 4.7655\n",
            "    },\n",
            "    \"base\": \"EUR\",\n",
            "    \"date\": \"2020-04-16\"\n",
            "}\n"
          ],
          "name": "stdout"
        }
      ]
    },
    {
      "cell_type": "code",
      "metadata": {
        "id": "XPNIlhpsx7BM",
        "colab_type": "code",
        "outputId": "5b701b3c-0ff2-48ec-f787-d506284e8438",
        "colab": {
          "base_uri": "https://localhost:8080/",
          "height": 35
        }
      },
      "source": [
        "# NOTE: It contains 3 keys; the value for the 'rates' key is another dictionary\n",
        "response.json().keys()"
      ],
      "execution_count": 0,
      "outputs": [
        {
          "output_type": "execute_result",
          "data": {
            "text/plain": [
              "dict_keys(['rates', 'base', 'date'])"
            ]
          },
          "metadata": {
            "tags": []
          },
          "execution_count": 17
        }
      ]
    },
    {
      "cell_type": "markdown",
      "metadata": {
        "id": "zzcByHeAyEts",
        "colab_type": "text"
      },
      "source": [
        "### Incorporating parameters in the GET request"
      ]
    },
    {
      "cell_type": "code",
      "metadata": {
        "id": "cg1ADjHJyG0E",
        "colab_type": "code",
        "outputId": "47956e3d-46d4-4317-8dcd-33cd3315f029",
        "colab": {
          "base_uri": "https://localhost:8080/",
          "height": 35
        }
      },
      "source": [
        "# Request parameters are added to the URL after a question mark '?'\n",
        "# In this case, we request for the exchange rates of the US Dollar (USD) and Pound Sterling (GBP) only\n",
        "param_url = base_url + \"?symbols=USD,INR\"\n",
        "param_url"
      ],
      "execution_count": 0,
      "outputs": [
        {
          "output_type": "execute_result",
          "data": {
            "text/plain": [
              "'https://api.exchangeratesapi.io/latest?symbols=USD,INR'"
            ]
          },
          "metadata": {
            "tags": []
          },
          "execution_count": 21
        }
      ]
    },
    {
      "cell_type": "code",
      "metadata": {
        "id": "RDqByVMAyLyb",
        "colab_type": "code",
        "outputId": "0544be9b-ea39-4cbe-fbd1-7960d4066503",
        "colab": {
          "base_uri": "https://localhost:8080/",
          "height": 35
        }
      },
      "source": [
        "# Making a request to the server with the new URL, containing the parameters\n",
        "response = requests.get(param_url)\n",
        "response.status_code"
      ],
      "execution_count": 0,
      "outputs": [
        {
          "output_type": "execute_result",
          "data": {
            "text/plain": [
              "200"
            ]
          },
          "metadata": {
            "tags": []
          },
          "execution_count": 22
        }
      ]
    },
    {
      "cell_type": "code",
      "metadata": {
        "id": "spbbQBH7yPWs",
        "colab_type": "code",
        "outputId": "2b7a2fb3-2991-4cc3-eec7-c5914c72adbb",
        "colab": {
          "base_uri": "https://localhost:8080/",
          "height": 35
        }
      },
      "source": [
        "# Saving the response data\n",
        "data = response.json()\n",
        "data"
      ],
      "execution_count": 0,
      "outputs": [
        {
          "output_type": "execute_result",
          "data": {
            "text/plain": [
              "{'base': 'EUR', 'date': '2020-04-16', 'rates': {'INR': 83.705, 'USD': 1.0888}}"
            ]
          },
          "metadata": {
            "tags": []
          },
          "execution_count": 23
        }
      ]
    },
    {
      "cell_type": "code",
      "metadata": {
        "id": "pI9dOhJLyazf",
        "colab_type": "code",
        "outputId": "26630b9c-373d-4916-c965-5dfa7e924a45",
        "colab": {
          "base_uri": "https://localhost:8080/",
          "height": 35
        }
      },
      "source": [
        "# 'data' is a dictionary\n",
        "data['base']"
      ],
      "execution_count": 0,
      "outputs": [
        {
          "output_type": "execute_result",
          "data": {
            "text/plain": [
              "'EUR'"
            ]
          },
          "metadata": {
            "tags": []
          },
          "execution_count": 24
        }
      ]
    },
    {
      "cell_type": "code",
      "metadata": {
        "id": "Woows6rWyebm",
        "colab_type": "code",
        "outputId": "9c938295-985a-4dac-d1b0-c748558f21ad",
        "colab": {
          "base_uri": "https://localhost:8080/",
          "height": 35
        }
      },
      "source": [
        "data['date']"
      ],
      "execution_count": 0,
      "outputs": [
        {
          "output_type": "execute_result",
          "data": {
            "text/plain": [
              "'2020-04-16'"
            ]
          },
          "metadata": {
            "tags": []
          },
          "execution_count": 25
        }
      ]
    },
    {
      "cell_type": "code",
      "metadata": {
        "id": "dz0itQJtyfmE",
        "colab_type": "code",
        "outputId": "02b3f93b-8f21-4ce6-9002-0d0d40c63048",
        "colab": {
          "base_uri": "https://localhost:8080/",
          "height": 35
        }
      },
      "source": [
        "data['rates']"
      ],
      "execution_count": 0,
      "outputs": [
        {
          "output_type": "execute_result",
          "data": {
            "text/plain": [
              "{'INR': 83.705, 'USD': 1.0888}"
            ]
          },
          "metadata": {
            "tags": []
          },
          "execution_count": 26
        }
      ]
    },
    {
      "cell_type": "code",
      "metadata": {
        "id": "WWffvPMqyiLk",
        "colab_type": "code",
        "colab": {}
      },
      "source": [
        "# As per the documentation of this API, we can change the base with the parameter 'base'\n",
        "param_url = base_url + \"?symbols=INR&base=USD\""
      ],
      "execution_count": 0,
      "outputs": []
    },
    {
      "cell_type": "code",
      "metadata": {
        "id": "HrueWDOKypZt",
        "colab_type": "code",
        "outputId": "d3982270-cbaf-4a19-ba4c-680173d1df87",
        "colab": {
          "base_uri": "https://localhost:8080/",
          "height": 35
        }
      },
      "source": [
        "# Sending a request and saving the response JSON, all at once\n",
        "data = requests.get(param_url).json()\n",
        "data"
      ],
      "execution_count": 0,
      "outputs": [
        {
          "output_type": "execute_result",
          "data": {
            "text/plain": [
              "{'base': 'USD', 'date': '2020-04-16', 'rates': {'INR': 76.8782145481}}"
            ]
          },
          "metadata": {
            "tags": []
          },
          "execution_count": 29
        }
      ]
    },
    {
      "cell_type": "code",
      "metadata": {
        "id": "h7QVSfF2ys5g",
        "colab_type": "code",
        "outputId": "81aa644f-f961-4234-c913-09579723cfab",
        "colab": {
          "base_uri": "https://localhost:8080/",
          "height": 35
        }
      },
      "source": [
        "usd_to_gbp = data['rates']['INR']\n",
        "usd_to_gbp"
      ],
      "execution_count": 0,
      "outputs": [
        {
          "output_type": "execute_result",
          "data": {
            "text/plain": [
              "76.8782145481"
            ]
          },
          "metadata": {
            "tags": []
          },
          "execution_count": 30
        }
      ]
    },
    {
      "cell_type": "markdown",
      "metadata": {
        "id": "tld6X7IcyxIE",
        "colab_type": "text"
      },
      "source": [
        "### Obtaining historical exchange rates"
      ]
    },
    {
      "cell_type": "code",
      "metadata": {
        "id": "Ylo5_WwAyuy-",
        "colab_type": "code",
        "colab": {}
      },
      "source": [
        "base_url = \"https://api.exchangeratesapi.io\""
      ],
      "execution_count": 0,
      "outputs": []
    },
    {
      "cell_type": "code",
      "metadata": {
        "id": "m1VjrNv3y0is",
        "colab_type": "code",
        "outputId": "846c2869-9c57-433d-b8d2-3bf8ebaa3db5",
        "colab": {
          "base_uri": "https://localhost:8080/",
          "height": 35
        }
      },
      "source": [
        "# We can also ask for the exhange rates at a particular day in the past with '/DATE', where DATE is in the format YYYY-MM-DD\n",
        "historical_url = base_url + \"/2000-08-15\"\n",
        "historical_url"
      ],
      "execution_count": 0,
      "outputs": [
        {
          "output_type": "execute_result",
          "data": {
            "text/plain": [
              "'https://api.exchangeratesapi.io/2000-08-15'"
            ]
          },
          "metadata": {
            "tags": []
          },
          "execution_count": 37
        }
      ]
    },
    {
      "cell_type": "code",
      "metadata": {
        "id": "AYi5YAeezBnp",
        "colab_type": "code",
        "outputId": "cf6132ba-0511-409a-fcf9-b19fea856d6c",
        "colab": {
          "base_uri": "https://localhost:8080/",
          "height": 35
        }
      },
      "source": [
        "# Making the GET request\n",
        "response = requests.get(historical_url)\n",
        "response.status_code"
      ],
      "execution_count": 0,
      "outputs": [
        {
          "output_type": "execute_result",
          "data": {
            "text/plain": [
              "200"
            ]
          },
          "metadata": {
            "tags": []
          },
          "execution_count": 38
        }
      ]
    },
    {
      "cell_type": "code",
      "metadata": {
        "id": "TIzNTeOXzLN-",
        "colab_type": "code",
        "outputId": "836e9553-9a49-40aa-ceb8-c60a782f055b",
        "colab": {
          "base_uri": "https://localhost:8080/",
          "height": 615
        }
      },
      "source": [
        "# Pretty printing the data\n",
        "data = response.json()\n",
        "print(json.dumps(data, indent=4))"
      ],
      "execution_count": 0,
      "outputs": [
        {
          "output_type": "stream",
          "text": [
            "{\n",
            "    \"rates\": {\n",
            "        \"CAD\": 1.3564,\n",
            "        \"HKD\": 7.1176,\n",
            "        \"CYP\": 0.57266,\n",
            "        \"DKK\": 7.4602,\n",
            "        \"HUF\": 260.85,\n",
            "        \"CZK\": 35.36,\n",
            "        \"AUD\": 1.5607,\n",
            "        \"SEK\": 8.3455,\n",
            "        \"USD\": 0.9118,\n",
            "        \"LTL\": 3.6507,\n",
            "        \"TRL\": 586409.0,\n",
            "        \"JPY\": 99.78,\n",
            "        \"SKK\": 42.54,\n",
            "        \"LVL\": 0.5533,\n",
            "        \"CHF\": 1.5591,\n",
            "        \"SGD\": 1.5697,\n",
            "        \"ROL\": 20372.0,\n",
            "        \"BGN\": 1.9461,\n",
            "        \"SIT\": 208.5309,\n",
            "        \"MTL\": 0.4025,\n",
            "        \"NOK\": 8.114,\n",
            "        \"NZD\": 2.0294,\n",
            "        \"ZAR\": 6.3182,\n",
            "        \"ISK\": 72.68,\n",
            "        \"EEK\": 15.6466,\n",
            "        \"GBP\": 0.6059,\n",
            "        \"KRW\": 1018.55,\n",
            "        \"PLN\": 3.9645\n",
            "    },\n",
            "    \"base\": \"EUR\",\n",
            "    \"date\": \"2000-08-15\"\n",
            "}\n"
          ],
          "name": "stdout"
        }
      ]
    },
    {
      "cell_type": "markdown",
      "metadata": {
        "id": "Mb-zEHEhzPYM",
        "colab_type": "text"
      },
      "source": [
        "### Extracting data for a time period\n",
        "\n",
        "This data can then be used to plot the change in the exchange rate through time or any other further analysis"
      ]
    },
    {
      "cell_type": "code",
      "metadata": {
        "id": "nEwiE3fwzNDu",
        "colab_type": "code",
        "outputId": "d6f5f17d-af62-4c17-d10d-08fadd7853f5",
        "colab": {
          "base_uri": "https://localhost:8080/",
          "height": 35
        }
      },
      "source": [
        "# The last feautre of this API is: giving the historical exchange rates for every day over some time period\n",
        "# The URL for this request is formed with '/history' and the parameters 'start_at' and 'end_at'\n",
        "time_period = base_url + \"/history\" + \"?start_at=2017-04-26&end_at=2018-04-26\" + \"&symbols=GBP\"\n",
        "time_period"
      ],
      "execution_count": 0,
      "outputs": [
        {
          "output_type": "execute_result",
          "data": {
            "text/plain": [
              "'https://api.exchangeratesapi.io/history?start_at=2017-04-26&end_at=2018-04-26&symbols=GBP'"
            ]
          },
          "metadata": {
            "tags": []
          },
          "execution_count": 40
        }
      ]
    },
    {
      "cell_type": "code",
      "metadata": {
        "id": "bI3xH04szftB",
        "colab_type": "code",
        "colab": {}
      },
      "source": [
        "# Extracting the response JSON object\n",
        "data = requests.get(time_period).json()"
      ],
      "execution_count": 0,
      "outputs": []
    },
    {
      "cell_type": "code",
      "metadata": {
        "id": "DY5WvxpnzjUt",
        "colab_type": "code",
        "outputId": "7c705a62-e83b-47c3-a7e5-ee5206a9fc73",
        "colab": {
          "base_uri": "https://localhost:8080/",
          "height": 1000
        }
      },
      "source": [
        "# Pretty printing the JSON\n",
        "# Notice that the dates are in random order\n",
        "print(json.dumps(data, indent=4))"
      ],
      "execution_count": 0,
      "outputs": [
        {
          "output_type": "stream",
          "text": [
            "{\n",
            "    \"rates\": {\n",
            "        \"2017-08-02\": {\n",
            "            \"GBP\": 0.89425\n",
            "        },\n",
            "        \"2017-08-07\": {\n",
            "            \"GBP\": 0.90435\n",
            "        },\n",
            "        \"2017-12-05\": {\n",
            "            \"GBP\": 0.88183\n",
            "        },\n",
            "        \"2017-08-03\": {\n",
            "            \"GBP\": 0.90318\n",
            "        },\n",
            "        \"2017-10-17\": {\n",
            "            \"GBP\": 0.89148\n",
            "        },\n",
            "        \"2017-05-12\": {\n",
            "            \"GBP\": 0.84588\n",
            "        },\n",
            "        \"2017-10-23\": {\n",
            "            \"GBP\": 0.8909\n",
            "        },\n",
            "        \"2017-10-04\": {\n",
            "            \"GBP\": 0.88768\n",
            "        },\n",
            "        \"2017-08-16\": {\n",
            "            \"GBP\": 0.90993\n",
            "        },\n",
            "        \"2017-06-12\": {\n",
            "            \"GBP\": 0.88545\n",
            "        },\n",
            "        \"2018-04-10\": {\n",
            "            \"GBP\": 0.87183\n",
            "        },\n",
            "        \"2017-09-19\": {\n",
            "            \"GBP\": 0.88622\n",
            "        },\n",
            "        \"2017-10-27\": {\n",
            "            \"GBP\": 0.88633\n",
            "        },\n",
            "        \"2018-03-26\": {\n",
            "            \"GBP\": 0.87248\n",
            "        },\n",
            "        \"2017-09-06\": {\n",
            "            \"GBP\": 0.91428\n",
            "        },\n",
            "        \"2018-04-06\": {\n",
            "            \"GBP\": 0.87295\n",
            "        },\n",
            "        \"2018-02-08\": {\n",
            "            \"GBP\": 0.87513\n",
            "        },\n",
            "        \"2018-03-23\": {\n",
            "            \"GBP\": 0.87285\n",
            "        },\n",
            "        \"2017-07-07\": {\n",
            "            \"GBP\": 0.88488\n",
            "        },\n",
            "        \"2017-09-05\": {\n",
            "            \"GBP\": 0.9174\n",
            "        },\n",
            "        \"2017-11-15\": {\n",
            "            \"GBP\": 0.8991\n",
            "        },\n",
            "        \"2017-07-18\": {\n",
            "            \"GBP\": 0.8878\n",
            "        },\n",
            "        \"2018-04-16\": {\n",
            "            \"GBP\": 0.86465\n",
            "        },\n",
            "        \"2017-10-30\": {\n",
            "            \"GBP\": 0.8798\n",
            "        },\n",
            "        \"2017-07-25\": {\n",
            "            \"GBP\": 0.89395\n",
            "        },\n",
            "        \"2017-09-28\": {\n",
            "            \"GBP\": 0.87635\n",
            "        },\n",
            "        \"2017-06-15\": {\n",
            "            \"GBP\": 0.8764\n",
            "        },\n",
            "        \"2017-11-07\": {\n",
            "            \"GBP\": 0.88038\n",
            "        },\n",
            "        \"2017-08-09\": {\n",
            "            \"GBP\": 0.90338\n",
            "        },\n",
            "        \"2017-11-06\": {\n",
            "            \"GBP\": 0.8839\n",
            "        },\n",
            "        \"2017-07-20\": {\n",
            "            \"GBP\": 0.88718\n",
            "        },\n",
            "        \"2018-02-09\": {\n",
            "            \"GBP\": 0.8874\n",
            "        },\n",
            "        \"2017-10-26\": {\n",
            "            \"GBP\": 0.8901\n",
            "        },\n",
            "        \"2018-01-09\": {\n",
            "            \"GBP\": 0.8827\n",
            "        },\n",
            "        \"2018-01-24\": {\n",
            "            \"GBP\": 0.87183\n",
            "        },\n",
            "        \"2018-02-13\": {\n",
            "            \"GBP\": 0.88935\n",
            "        },\n",
            "        \"2017-07-17\": {\n",
            "            \"GBP\": 0.87755\n",
            "        },\n",
            "        \"2017-11-16\": {\n",
            "            \"GBP\": 0.89183\n",
            "        },\n",
            "        \"2018-01-18\": {\n",
            "            \"GBP\": 0.88208\n",
            "        },\n",
            "        \"2017-08-22\": {\n",
            "            \"GBP\": 0.91713\n",
            "        },\n",
            "        \"2017-10-12\": {\n",
            "            \"GBP\": 0.90235\n",
            "        },\n",
            "        \"2017-07-19\": {\n",
            "            \"GBP\": 0.88485\n",
            "        },\n",
            "        \"2017-06-01\": {\n",
            "            \"GBP\": 0.8723\n",
            "        },\n",
            "        \"2017-09-12\": {\n",
            "            \"GBP\": 0.89878\n",
            "        },\n",
            "        \"2017-10-18\": {\n",
            "            \"GBP\": 0.89283\n",
            "        },\n",
            "        \"2017-05-05\": {\n",
            "            \"GBP\": 0.8471\n",
            "        },\n",
            "        \"2017-05-17\": {\n",
            "            \"GBP\": 0.85745\n",
            "        },\n",
            "        \"2017-10-16\": {\n",
            "            \"GBP\": 0.88753\n",
            "        },\n",
            "        \"2017-09-26\": {\n",
            "            \"GBP\": 0.87775\n",
            "        },\n",
            "        \"2018-03-20\": {\n",
            "            \"GBP\": 0.87715\n",
            "        },\n",
            "        \"2017-12-18\": {\n",
            "            \"GBP\": 0.88208\n",
            "        },\n",
            "        \"2017-10-03\": {\n",
            "            \"GBP\": 0.88793\n",
            "        },\n",
            "        \"2018-02-22\": {\n",
            "            \"GBP\": 0.88343\n",
            "        },\n",
            "        \"2018-02-26\": {\n",
            "            \"GBP\": 0.8782\n",
            "        },\n",
            "        \"2017-06-07\": {\n",
            "            \"GBP\": 0.86908\n",
            "        },\n",
            "        \"2017-08-25\": {\n",
            "            \"GBP\": 0.92083\n",
            "        },\n",
            "        \"2017-12-08\": {\n",
            "            \"GBP\": 0.87525\n",
            "        },\n",
            "        \"2017-12-01\": {\n",
            "            \"GBP\": 0.88115\n",
            "        },\n",
            "        \"2017-10-25\": {\n",
            "            \"GBP\": 0.88883\n",
            "        },\n",
            "        \"2017-11-24\": {\n",
            "            \"GBP\": 0.8912\n",
            "        },\n",
            "        \"2017-11-09\": {\n",
            "            \"GBP\": 0.88633\n",
            "        },\n",
            "        \"2018-04-19\": {\n",
            "            \"GBP\": 0.86975\n",
            "        },\n",
            "        \"2017-08-29\": {\n",
            "            \"GBP\": 0.92965\n",
            "        },\n",
            "        \"2018-02-01\": {\n",
            "            \"GBP\": 0.8752\n",
            "        },\n",
            "        \"2018-03-21\": {\n",
            "            \"GBP\": 0.87403\n",
            "        },\n",
            "        \"2018-01-16\": {\n",
            "            \"GBP\": 0.8886\n",
            "        },\n",
            "        \"2017-08-21\": {\n",
            "            \"GBP\": 0.91318\n",
            "        },\n",
            "        \"2018-01-26\": {\n",
            "            \"GBP\": 0.87335\n",
            "        },\n",
            "        \"2017-08-11\": {\n",
            "            \"GBP\": 0.90645\n",
            "        },\n",
            "        \"2018-01-04\": {\n",
            "            \"GBP\": 0.89103\n",
            "        },\n",
            "        \"2018-01-22\": {\n",
            "            \"GBP\": 0.88085\n",
            "        },\n",
            "        \"2017-05-19\": {\n",
            "            \"GBP\": 0.85908\n",
            "        },\n",
            "        \"2017-04-26\": {\n",
            "            \"GBP\": 0.84903\n",
            "        },\n",
            "        \"2017-11-14\": {\n",
            "            \"GBP\": 0.89585\n",
            "        },\n",
            "        \"2018-01-03\": {\n",
            "            \"GBP\": 0.8864\n",
            "        },\n",
            "        \"2018-04-26\": {\n",
            "            \"GBP\": 0.871\n",
            "        },\n",
            "        \"2018-03-02\": {\n",
            "            \"GBP\": 0.8932\n",
            "        },\n",
            "        \"2017-06-22\": {\n",
            "            \"GBP\": 0.88168\n",
            "        },\n",
            "        \"2017-08-24\": {\n",
            "            \"GBP\": 0.92\n",
            "        },\n",
            "        \"2017-11-29\": {\n",
            "            \"GBP\": 0.88293\n",
            "        },\n",
            "        \"2017-05-10\": {\n",
            "            \"GBP\": 0.83985\n",
            "        },\n",
            "        \"2018-02-12\": {\n",
            "            \"GBP\": 0.886\n",
            "        },\n",
            "        \"2018-03-08\": {\n",
            "            \"GBP\": 0.89465\n",
            "        },\n",
            "        \"2017-07-21\": {\n",
            "            \"GBP\": 0.8961\n",
            "        },\n",
            "        \"2017-12-29\": {\n",
            "            \"GBP\": 0.88723\n",
            "        },\n",
            "        \"2017-09-13\": {\n",
            "            \"GBP\": 0.90243\n",
            "        },\n",
            "        \"2017-09-01\": {\n",
            "            \"GBP\": 0.92075\n",
            "        },\n",
            "        \"2017-08-17\": {\n",
            "            \"GBP\": 0.90895\n",
            "        },\n",
            "        \"2017-06-27\": {\n",
            "            \"GBP\": 0.8837\n",
            "        },\n",
            "        \"2018-02-14\": {\n",
            "            \"GBP\": 0.8904\n",
            "        },\n",
            "        \"2017-05-08\": {\n",
            "            \"GBP\": 0.84465\n",
            "        },\n",
            "        \"2017-12-22\": {\n",
            "            \"GBP\": 0.88568\n",
            "        },\n",
            "        \"2017-09-22\": {\n",
            "            \"GBP\": 0.88155\n",
            "        },\n",
            "        \"2017-07-24\": {\n",
            "            \"GBP\": 0.8935\n",
            "        },\n",
            "        \"2017-06-02\": {\n",
            "            \"GBP\": 0.87268\n",
            "        },\n",
            "        \"2017-05-26\": {\n",
            "            \"GBP\": 0.8719\n",
            "        },\n",
            "        \"2017-05-22\": {\n",
            "            \"GBP\": 0.86353\n",
            "        },\n",
            "        \"2017-06-26\": {\n",
            "            \"GBP\": 0.8783\n",
            "        },\n",
            "        \"2017-05-15\": {\n",
            "            \"GBP\": 0.84928\n",
            "        },\n",
            "        \"2017-05-18\": {\n",
            "            \"GBP\": 0.85363\n",
            "        },\n",
            "        \"2017-08-23\": {\n",
            "            \"GBP\": 0.92133\n",
            "        },\n",
            "        \"2017-08-18\": {\n",
            "            \"GBP\": 0.91188\n",
            "        },\n",
            "        \"2018-04-25\": {\n",
            "            \"GBP\": 0.8738\n",
            "        },\n",
            "        \"2017-05-31\": {\n",
            "            \"GBP\": 0.87365\n",
            "        },\n",
            "        \"2017-07-28\": {\n",
            "            \"GBP\": 0.89568\n",
            "        },\n",
            "        \"2017-12-06\": {\n",
            "            \"GBP\": 0.88335\n",
            "        },\n",
            "        \"2017-05-09\": {\n",
            "            \"GBP\": 0.843\n",
            "        },\n",
            "        \"2017-12-27\": {\n",
            "            \"GBP\": 0.88593\n",
            "        },\n",
            "        \"2017-06-14\": {\n",
            "            \"GBP\": 0.8796\n",
            "        },\n",
            "        \"2017-07-05\": {\n",
            "            \"GBP\": 0.87735\n",
            "        },\n",
            "        \"2018-02-02\": {\n",
            "            \"GBP\": 0.8785\n",
            "        },\n",
            "        \"2017-07-10\": {\n",
            "            \"GBP\": 0.88443\n",
            "        },\n",
            "        \"2017-09-07\": {\n",
            "            \"GBP\": 0.91403\n",
            "        },\n",
            "        \"2018-04-12\": {\n",
            "            \"GBP\": 0.86745\n",
            "        },\n",
            "        \"2018-03-05\": {\n",
            "            \"GBP\": 0.8907\n",
            "        },\n",
            "        \"2017-12-13\": {\n",
            "            \"GBP\": 0.87905\n",
            "        },\n",
            "        \"2017-07-06\": {\n",
            "            \"GBP\": 0.88013\n",
            "        },\n",
            "        \"2017-12-04\": {\n",
            "            \"GBP\": 0.87725\n",
            "        },\n",
            "        \"2017-11-02\": {\n",
            "            \"GBP\": 0.8869\n",
            "        },\n",
            "        \"2018-03-07\": {\n",
            "            \"GBP\": 0.89513\n",
            "        },\n",
            "        \"2017-07-31\": {\n",
            "            \"GBP\": 0.8942\n",
            "        },\n",
            "        \"2017-09-14\": {\n",
            "            \"GBP\": 0.89123\n",
            "        },\n",
            "        \"2017-07-26\": {\n",
            "            \"GBP\": 0.89275\n",
            "        },\n",
            "        \"2017-08-08\": {\n",
            "            \"GBP\": 0.90678\n",
            "        },\n",
            "        \"2017-11-03\": {\n",
            "            \"GBP\": 0.88923\n",
            "        },\n",
            "        \"2017-08-14\": {\n",
            "            \"GBP\": 0.90935\n",
            "        },\n",
            "        \"2017-09-27\": {\n",
            "            \"GBP\": 0.87565\n",
            "        },\n",
            "        \"2018-02-16\": {\n",
            "            \"GBP\": 0.88803\n",
            "        },\n",
            "        \"2018-04-18\": {\n",
            "            \"GBP\": 0.87105\n",
            "        },\n",
            "        \"2018-01-10\": {\n",
            "            \"GBP\": 0.8867\n",
            "        },\n",
            "        \"2018-01-05\": {\n",
            "            \"GBP\": 0.88883\n",
            "        },\n",
            "        \"2018-01-31\": {\n",
            "            \"GBP\": 0.8791\n",
            "        },\n",
            "        \"2017-06-16\": {\n",
            "            \"GBP\": 0.87453\n",
            "        },\n",
            "        \"2017-06-13\": {\n",
            "            \"GBP\": 0.88075\n",
            "        },\n",
            "        \"2018-01-02\": {\n",
            "            \"GBP\": 0.88953\n",
            "        },\n",
            "        \"2017-08-01\": {\n",
            "            \"GBP\": 0.8944\n",
            "        },\n",
            "        \"2017-09-11\": {\n",
            "            \"GBP\": 0.90775\n",
            "        },\n",
            "        \"2017-06-06\": {\n",
            "            \"GBP\": 0.8723\n",
            "        },\n",
            "        \"2017-11-22\": {\n",
            "            \"GBP\": 0.8881\n",
            "        },\n",
            "        \"2017-09-20\": {\n",
            "            \"GBP\": 0.8868\n",
            "        },\n",
            "        \"2017-10-06\": {\n",
            "            \"GBP\": 0.89535\n",
            "        },\n",
            "        \"2017-12-11\": {\n",
            "            \"GBP\": 0.8825\n",
            "        },\n",
            "        \"2018-02-28\": {\n",
            "            \"GBP\": 0.88415\n",
            "        },\n",
            "        \"2018-04-13\": {\n",
            "            \"GBP\": 0.864\n",
            "        },\n",
            "        \"2018-04-04\": {\n",
            "            \"GBP\": 0.87573\n",
            "        },\n",
            "        \"2018-03-01\": {\n",
            "            \"GBP\": 0.8852\n",
            "        },\n",
            "        \"2017-10-13\": {\n",
            "            \"GBP\": 0.8898\n",
            "        },\n",
            "        \"2017-09-08\": {\n",
            "            \"GBP\": 0.91268\n",
            "        },\n",
            "        \"2017-11-20\": {\n",
            "            \"GBP\": 0.8894\n",
            "        },\n",
            "        \"2018-02-07\": {\n",
            "            \"GBP\": 0.88675\n",
            "        },\n",
            "        \"2018-01-17\": {\n",
            "            \"GBP\": 0.88568\n",
            "        },\n",
            "        \"2017-10-24\": {\n",
            "            \"GBP\": 0.89303\n",
            "        },\n",
            "        \"2017-06-05\": {\n",
            "            \"GBP\": 0.8713\n",
            "        },\n",
            "        \"2018-03-14\": {\n",
            "            \"GBP\": 0.8863\n",
            "        },\n",
            "        \"2017-06-28\": {\n",
            "            \"GBP\": 0.88525\n",
            "        },\n",
            "        \"2018-03-06\": {\n",
            "            \"GBP\": 0.89165\n",
            "        },\n",
            "        \"2017-05-29\": {\n",
            "            \"GBP\": 0.87093\n",
            "        },\n",
            "        \"2017-06-20\": {\n",
            "            \"GBP\": 0.88143\n",
            "        },\n",
            "        \"2018-03-12\": {\n",
            "            \"GBP\": 0.8859\n",
            "        },\n",
            "        \"2018-01-08\": {\n",
            "            \"GBP\": 0.88413\n",
            "        },\n",
            "        \"2017-12-12\": {\n",
            "            \"GBP\": 0.88068\n",
            "        },\n",
            "        \"2017-10-05\": {\n",
            "            \"GBP\": 0.89153\n",
            "        },\n",
            "        \"2017-10-10\": {\n",
            "            \"GBP\": 0.8941\n",
            "        },\n",
            "        \"2017-12-07\": {\n",
            "            \"GBP\": 0.88068\n",
            "        },\n",
            "        \"2017-07-12\": {\n",
            "            \"GBP\": 0.88925\n",
            "        },\n",
            "        \"2017-06-29\": {\n",
            "            \"GBP\": 0.8799\n",
            "        },\n",
            "        \"2017-08-30\": {\n",
            "            \"GBP\": 0.92246\n",
            "        },\n",
            "        \"2018-01-12\": {\n",
            "            \"GBP\": 0.88983\n",
            "        },\n",
            "        \"2017-11-21\": {\n",
            "            \"GBP\": 0.88498\n",
            "        },\n",
            "        \"2017-11-13\": {\n",
            "            \"GBP\": 0.89018\n",
            "        },\n",
            "        \"2018-03-15\": {\n",
            "            \"GBP\": 0.8848\n",
            "        },\n",
            "        \"2017-09-15\": {\n",
            "            \"GBP\": 0.88043\n",
            "        },\n",
            "        \"2017-07-14\": {\n",
            "            \"GBP\": 0.87983\n",
            "        },\n",
            "        \"2017-12-15\": {\n",
            "            \"GBP\": 0.88253\n",
            "        },\n",
            "        \"2017-05-23\": {\n",
            "            \"GBP\": 0.86463\n",
            "        },\n",
            "        \"2017-09-29\": {\n",
            "            \"GBP\": 0.88178\n",
            "        },\n",
            "        \"2018-02-23\": {\n",
            "            \"GBP\": 0.8794\n",
            "        },\n",
            "        \"2017-12-28\": {\n",
            "            \"GBP\": 0.88768\n",
            "        },\n",
            "        \"2017-12-19\": {\n",
            "            \"GBP\": 0.885\n",
            "        },\n",
            "        \"2018-03-16\": {\n",
            "            \"GBP\": 0.88253\n",
            "        },\n",
            "        \"2018-03-09\": {\n",
            "            \"GBP\": 0.88893\n",
            "        },\n",
            "        \"2018-03-29\": {\n",
            "            \"GBP\": 0.8749\n",
            "        },\n",
            "        \"2018-02-27\": {\n",
            "            \"GBP\": 0.884\n",
            "        },\n",
            "        \"2017-06-30\": {\n",
            "            \"GBP\": 0.87933\n",
            "        },\n",
            "        \"2018-03-13\": {\n",
            "            \"GBP\": 0.8865\n",
            "        },\n",
            "        \"2018-04-24\": {\n",
            "            \"GBP\": 0.87468\n",
            "        },\n",
            "        \"2017-09-18\": {\n",
            "            \"GBP\": 0.88253\n",
            "        },\n",
            "        \"2017-11-23\": {\n",
            "            \"GBP\": 0.89005\n",
            "        },\n",
            "        \"2018-03-27\": {\n",
            "            \"GBP\": 0.8794\n",
            "        },\n",
            "        \"2018-04-09\": {\n",
            "            \"GBP\": 0.87088\n",
            "        },\n",
            "        \"2018-04-05\": {\n",
            "            \"GBP\": 0.87395\n",
            "        },\n",
            "        \"2017-11-30\": {\n",
            "            \"GBP\": 0.87985\n",
            "        },\n",
            "        \"2017-11-27\": {\n",
            "            \"GBP\": 0.89375\n",
            "        },\n",
            "        \"2018-02-20\": {\n",
            "            \"GBP\": 0.88168\n",
            "        },\n",
            "        \"2017-11-08\": {\n",
            "            \"GBP\": 0.88405\n",
            "        },\n",
            "        \"2018-01-23\": {\n",
            "            \"GBP\": 0.8783\n",
            "        },\n",
            "        \"2017-05-16\": {\n",
            "            \"GBP\": 0.85868\n",
            "        },\n",
            "        \"2018-04-03\": {\n",
            "            \"GBP\": 0.87523\n",
            "        },\n",
            "        \"2018-04-17\": {\n",
            "            \"GBP\": 0.8628\n",
            "        },\n",
            "        \"2017-05-25\": {\n",
            "            \"GBP\": 0.86528\n",
            "        },\n",
            "        \"2017-10-11\": {\n",
            "            \"GBP\": 0.8971\n",
            "        },\n",
            "        \"2017-09-04\": {\n",
            "            \"GBP\": 0.91855\n",
            "        },\n",
            "        \"2017-07-13\": {\n",
            "            \"GBP\": 0.88215\n",
            "        },\n",
            "        \"2017-06-08\": {\n",
            "            \"GBP\": 0.86755\n",
            "        },\n",
            "        \"2017-04-28\": {\n",
            "            \"GBP\": 0.84473\n",
            "        },\n",
            "        \"2018-01-11\": {\n",
            "            \"GBP\": 0.89075\n",
            "        },\n",
            "        \"2017-07-03\": {\n",
            "            \"GBP\": 0.87705\n",
            "        },\n",
            "        \"2018-04-11\": {\n",
            "            \"GBP\": 0.8736\n",
            "        },\n",
            "        \"2017-07-04\": {\n",
            "            \"GBP\": 0.87805\n",
            "        },\n",
            "        \"2017-05-30\": {\n",
            "            \"GBP\": 0.86793\n",
            "        },\n",
            "        \"2018-02-06\": {\n",
            "            \"GBP\": 0.88885\n",
            "        },\n",
            "        \"2017-12-20\": {\n",
            "            \"GBP\": 0.8832\n",
            "        },\n",
            "        \"2017-05-03\": {\n",
            "            \"GBP\": 0.8444\n",
            "        },\n",
            "        \"2017-08-28\": {\n",
            "            \"GBP\": 0.92328\n",
            "        },\n",
            "        \"2018-04-23\": {\n",
            "            \"GBP\": 0.8764\n",
            "        },\n",
            "        \"2017-08-15\": {\n",
            "            \"GBP\": 0.91145\n",
            "        },\n",
            "        \"2018-01-19\": {\n",
            "            \"GBP\": 0.88365\n",
            "        },\n",
            "        \"2017-10-20\": {\n",
            "            \"GBP\": 0.89623\n",
            "        },\n",
            "        \"2017-11-01\": {\n",
            "            \"GBP\": 0.87385\n",
            "        },\n",
            "        \"2017-04-27\": {\n",
            "            \"GBP\": 0.8442\n",
            "        },\n",
            "        \"2017-05-11\": {\n",
            "            \"GBP\": 0.84485\n",
            "        },\n",
            "        \"2017-10-19\": {\n",
            "            \"GBP\": 0.89815\n",
            "        },\n",
            "        \"2017-07-27\": {\n",
            "            \"GBP\": 0.88978\n",
            "        },\n",
            "        \"2017-05-02\": {\n",
            "            \"GBP\": 0.8452\n",
            "        },\n",
            "        \"2018-03-19\": {\n",
            "            \"GBP\": 0.87593\n",
            "        },\n",
            "        \"2018-02-05\": {\n",
            "            \"GBP\": 0.88568\n",
            "        },\n",
            "        \"2017-10-02\": {\n",
            "            \"GBP\": 0.88418\n",
            "        },\n",
            "        \"2017-11-28\": {\n",
            "            \"GBP\": 0.89538\n",
            "        },\n",
            "        \"2017-05-24\": {\n",
            "            \"GBP\": 0.8634\n",
            "        },\n",
            "        \"2018-02-21\": {\n",
            "            \"GBP\": 0.88463\n",
            "        },\n",
            "        \"2017-10-09\": {\n",
            "            \"GBP\": 0.89195\n",
            "        },\n",
            "        \"2017-06-19\": {\n",
            "            \"GBP\": 0.87518\n",
            "        },\n",
            "        \"2017-07-11\": {\n",
            "            \"GBP\": 0.88318\n",
            "        },\n",
            "        \"2017-08-31\": {\n",
            "            \"GBP\": 0.91973\n",
            "        },\n",
            "        \"2017-06-23\": {\n",
            "            \"GBP\": 0.87805\n",
            "        },\n",
            "        \"2017-08-10\": {\n",
            "            \"GBP\": 0.90303\n",
            "        },\n",
            "        \"2017-10-31\": {\n",
            "            \"GBP\": 0.87853\n",
            "        },\n",
            "        \"2018-02-15\": {\n",
            "            \"GBP\": 0.8866\n",
            "        },\n",
            "        \"2018-03-22\": {\n",
            "            \"GBP\": 0.872\n",
            "        },\n",
            "        \"2018-02-19\": {\n",
            "            \"GBP\": 0.8859\n",
            "        },\n",
            "        \"2017-09-21\": {\n",
            "            \"GBP\": 0.8824\n",
            "        },\n",
            "        \"2017-12-21\": {\n",
            "            \"GBP\": 0.88763\n",
            "        },\n",
            "        \"2017-11-17\": {\n",
            "            \"GBP\": 0.89385\n",
            "        },\n",
            "        \"2017-06-21\": {\n",
            "            \"GBP\": 0.8781\n",
            "        },\n",
            "        \"2017-12-14\": {\n",
            "            \"GBP\": 0.88163\n",
            "        },\n",
            "        \"2018-01-30\": {\n",
            "            \"GBP\": 0.8793\n",
            "        },\n",
            "        \"2017-08-04\": {\n",
            "            \"GBP\": 0.9028\n",
            "        },\n",
            "        \"2018-03-28\": {\n",
            "            \"GBP\": 0.87605\n",
            "        },\n",
            "        \"2018-01-29\": {\n",
            "            \"GBP\": 0.8794\n",
            "        },\n",
            "        \"2017-06-09\": {\n",
            "            \"GBP\": 0.87638\n",
            "        },\n",
            "        \"2017-05-04\": {\n",
            "            \"GBP\": 0.84765\n",
            "        },\n",
            "        \"2018-01-25\": {\n",
            "            \"GBP\": 0.87038\n",
            "        },\n",
            "        \"2017-09-25\": {\n",
            "            \"GBP\": 0.87938\n",
            "        },\n",
            "        \"2017-11-10\": {\n",
            "            \"GBP\": 0.8837\n",
            "        },\n",
            "        \"2018-04-20\": {\n",
            "            \"GBP\": 0.87608\n",
            "        },\n",
            "        \"2018-01-15\": {\n",
            "            \"GBP\": 0.89043\n",
            "        }\n",
            "    },\n",
            "    \"start_at\": \"2017-04-26\",\n",
            "    \"base\": \"EUR\",\n",
            "    \"end_at\": \"2018-04-26\"\n",
            "}\n"
          ],
          "name": "stdout"
        }
      ]
    },
    {
      "cell_type": "code",
      "metadata": {
        "id": "UOxSCmNVzk8f",
        "colab_type": "code",
        "outputId": "73fcaf9e-1796-492f-c499-e3c5c1c1438e",
        "colab": {
          "base_uri": "https://localhost:8080/",
          "height": 1000
        }
      },
      "source": [
        "# We can use the 'sort_keys' parameter of the json.dumps() method to order these dates chronologically\n",
        "print(json.dumps(data, indent=4, sort_keys=True))"
      ],
      "execution_count": 0,
      "outputs": [
        {
          "output_type": "stream",
          "text": [
            "{\n",
            "    \"base\": \"EUR\",\n",
            "    \"end_at\": \"2018-04-26\",\n",
            "    \"rates\": {\n",
            "        \"2017-04-26\": {\n",
            "            \"GBP\": 0.84903\n",
            "        },\n",
            "        \"2017-04-27\": {\n",
            "            \"GBP\": 0.8442\n",
            "        },\n",
            "        \"2017-04-28\": {\n",
            "            \"GBP\": 0.84473\n",
            "        },\n",
            "        \"2017-05-02\": {\n",
            "            \"GBP\": 0.8452\n",
            "        },\n",
            "        \"2017-05-03\": {\n",
            "            \"GBP\": 0.8444\n",
            "        },\n",
            "        \"2017-05-04\": {\n",
            "            \"GBP\": 0.84765\n",
            "        },\n",
            "        \"2017-05-05\": {\n",
            "            \"GBP\": 0.8471\n",
            "        },\n",
            "        \"2017-05-08\": {\n",
            "            \"GBP\": 0.84465\n",
            "        },\n",
            "        \"2017-05-09\": {\n",
            "            \"GBP\": 0.843\n",
            "        },\n",
            "        \"2017-05-10\": {\n",
            "            \"GBP\": 0.83985\n",
            "        },\n",
            "        \"2017-05-11\": {\n",
            "            \"GBP\": 0.84485\n",
            "        },\n",
            "        \"2017-05-12\": {\n",
            "            \"GBP\": 0.84588\n",
            "        },\n",
            "        \"2017-05-15\": {\n",
            "            \"GBP\": 0.84928\n",
            "        },\n",
            "        \"2017-05-16\": {\n",
            "            \"GBP\": 0.85868\n",
            "        },\n",
            "        \"2017-05-17\": {\n",
            "            \"GBP\": 0.85745\n",
            "        },\n",
            "        \"2017-05-18\": {\n",
            "            \"GBP\": 0.85363\n",
            "        },\n",
            "        \"2017-05-19\": {\n",
            "            \"GBP\": 0.85908\n",
            "        },\n",
            "        \"2017-05-22\": {\n",
            "            \"GBP\": 0.86353\n",
            "        },\n",
            "        \"2017-05-23\": {\n",
            "            \"GBP\": 0.86463\n",
            "        },\n",
            "        \"2017-05-24\": {\n",
            "            \"GBP\": 0.8634\n",
            "        },\n",
            "        \"2017-05-25\": {\n",
            "            \"GBP\": 0.86528\n",
            "        },\n",
            "        \"2017-05-26\": {\n",
            "            \"GBP\": 0.8719\n",
            "        },\n",
            "        \"2017-05-29\": {\n",
            "            \"GBP\": 0.87093\n",
            "        },\n",
            "        \"2017-05-30\": {\n",
            "            \"GBP\": 0.86793\n",
            "        },\n",
            "        \"2017-05-31\": {\n",
            "            \"GBP\": 0.87365\n",
            "        },\n",
            "        \"2017-06-01\": {\n",
            "            \"GBP\": 0.8723\n",
            "        },\n",
            "        \"2017-06-02\": {\n",
            "            \"GBP\": 0.87268\n",
            "        },\n",
            "        \"2017-06-05\": {\n",
            "            \"GBP\": 0.8713\n",
            "        },\n",
            "        \"2017-06-06\": {\n",
            "            \"GBP\": 0.8723\n",
            "        },\n",
            "        \"2017-06-07\": {\n",
            "            \"GBP\": 0.86908\n",
            "        },\n",
            "        \"2017-06-08\": {\n",
            "            \"GBP\": 0.86755\n",
            "        },\n",
            "        \"2017-06-09\": {\n",
            "            \"GBP\": 0.87638\n",
            "        },\n",
            "        \"2017-06-12\": {\n",
            "            \"GBP\": 0.88545\n",
            "        },\n",
            "        \"2017-06-13\": {\n",
            "            \"GBP\": 0.88075\n",
            "        },\n",
            "        \"2017-06-14\": {\n",
            "            \"GBP\": 0.8796\n",
            "        },\n",
            "        \"2017-06-15\": {\n",
            "            \"GBP\": 0.8764\n",
            "        },\n",
            "        \"2017-06-16\": {\n",
            "            \"GBP\": 0.87453\n",
            "        },\n",
            "        \"2017-06-19\": {\n",
            "            \"GBP\": 0.87518\n",
            "        },\n",
            "        \"2017-06-20\": {\n",
            "            \"GBP\": 0.88143\n",
            "        },\n",
            "        \"2017-06-21\": {\n",
            "            \"GBP\": 0.8781\n",
            "        },\n",
            "        \"2017-06-22\": {\n",
            "            \"GBP\": 0.88168\n",
            "        },\n",
            "        \"2017-06-23\": {\n",
            "            \"GBP\": 0.87805\n",
            "        },\n",
            "        \"2017-06-26\": {\n",
            "            \"GBP\": 0.8783\n",
            "        },\n",
            "        \"2017-06-27\": {\n",
            "            \"GBP\": 0.8837\n",
            "        },\n",
            "        \"2017-06-28\": {\n",
            "            \"GBP\": 0.88525\n",
            "        },\n",
            "        \"2017-06-29\": {\n",
            "            \"GBP\": 0.8799\n",
            "        },\n",
            "        \"2017-06-30\": {\n",
            "            \"GBP\": 0.87933\n",
            "        },\n",
            "        \"2017-07-03\": {\n",
            "            \"GBP\": 0.87705\n",
            "        },\n",
            "        \"2017-07-04\": {\n",
            "            \"GBP\": 0.87805\n",
            "        },\n",
            "        \"2017-07-05\": {\n",
            "            \"GBP\": 0.87735\n",
            "        },\n",
            "        \"2017-07-06\": {\n",
            "            \"GBP\": 0.88013\n",
            "        },\n",
            "        \"2017-07-07\": {\n",
            "            \"GBP\": 0.88488\n",
            "        },\n",
            "        \"2017-07-10\": {\n",
            "            \"GBP\": 0.88443\n",
            "        },\n",
            "        \"2017-07-11\": {\n",
            "            \"GBP\": 0.88318\n",
            "        },\n",
            "        \"2017-07-12\": {\n",
            "            \"GBP\": 0.88925\n",
            "        },\n",
            "        \"2017-07-13\": {\n",
            "            \"GBP\": 0.88215\n",
            "        },\n",
            "        \"2017-07-14\": {\n",
            "            \"GBP\": 0.87983\n",
            "        },\n",
            "        \"2017-07-17\": {\n",
            "            \"GBP\": 0.87755\n",
            "        },\n",
            "        \"2017-07-18\": {\n",
            "            \"GBP\": 0.8878\n",
            "        },\n",
            "        \"2017-07-19\": {\n",
            "            \"GBP\": 0.88485\n",
            "        },\n",
            "        \"2017-07-20\": {\n",
            "            \"GBP\": 0.88718\n",
            "        },\n",
            "        \"2017-07-21\": {\n",
            "            \"GBP\": 0.8961\n",
            "        },\n",
            "        \"2017-07-24\": {\n",
            "            \"GBP\": 0.8935\n",
            "        },\n",
            "        \"2017-07-25\": {\n",
            "            \"GBP\": 0.89395\n",
            "        },\n",
            "        \"2017-07-26\": {\n",
            "            \"GBP\": 0.89275\n",
            "        },\n",
            "        \"2017-07-27\": {\n",
            "            \"GBP\": 0.88978\n",
            "        },\n",
            "        \"2017-07-28\": {\n",
            "            \"GBP\": 0.89568\n",
            "        },\n",
            "        \"2017-07-31\": {\n",
            "            \"GBP\": 0.8942\n",
            "        },\n",
            "        \"2017-08-01\": {\n",
            "            \"GBP\": 0.8944\n",
            "        },\n",
            "        \"2017-08-02\": {\n",
            "            \"GBP\": 0.89425\n",
            "        },\n",
            "        \"2017-08-03\": {\n",
            "            \"GBP\": 0.90318\n",
            "        },\n",
            "        \"2017-08-04\": {\n",
            "            \"GBP\": 0.9028\n",
            "        },\n",
            "        \"2017-08-07\": {\n",
            "            \"GBP\": 0.90435\n",
            "        },\n",
            "        \"2017-08-08\": {\n",
            "            \"GBP\": 0.90678\n",
            "        },\n",
            "        \"2017-08-09\": {\n",
            "            \"GBP\": 0.90338\n",
            "        },\n",
            "        \"2017-08-10\": {\n",
            "            \"GBP\": 0.90303\n",
            "        },\n",
            "        \"2017-08-11\": {\n",
            "            \"GBP\": 0.90645\n",
            "        },\n",
            "        \"2017-08-14\": {\n",
            "            \"GBP\": 0.90935\n",
            "        },\n",
            "        \"2017-08-15\": {\n",
            "            \"GBP\": 0.91145\n",
            "        },\n",
            "        \"2017-08-16\": {\n",
            "            \"GBP\": 0.90993\n",
            "        },\n",
            "        \"2017-08-17\": {\n",
            "            \"GBP\": 0.90895\n",
            "        },\n",
            "        \"2017-08-18\": {\n",
            "            \"GBP\": 0.91188\n",
            "        },\n",
            "        \"2017-08-21\": {\n",
            "            \"GBP\": 0.91318\n",
            "        },\n",
            "        \"2017-08-22\": {\n",
            "            \"GBP\": 0.91713\n",
            "        },\n",
            "        \"2017-08-23\": {\n",
            "            \"GBP\": 0.92133\n",
            "        },\n",
            "        \"2017-08-24\": {\n",
            "            \"GBP\": 0.92\n",
            "        },\n",
            "        \"2017-08-25\": {\n",
            "            \"GBP\": 0.92083\n",
            "        },\n",
            "        \"2017-08-28\": {\n",
            "            \"GBP\": 0.92328\n",
            "        },\n",
            "        \"2017-08-29\": {\n",
            "            \"GBP\": 0.92965\n",
            "        },\n",
            "        \"2017-08-30\": {\n",
            "            \"GBP\": 0.92246\n",
            "        },\n",
            "        \"2017-08-31\": {\n",
            "            \"GBP\": 0.91973\n",
            "        },\n",
            "        \"2017-09-01\": {\n",
            "            \"GBP\": 0.92075\n",
            "        },\n",
            "        \"2017-09-04\": {\n",
            "            \"GBP\": 0.91855\n",
            "        },\n",
            "        \"2017-09-05\": {\n",
            "            \"GBP\": 0.9174\n",
            "        },\n",
            "        \"2017-09-06\": {\n",
            "            \"GBP\": 0.91428\n",
            "        },\n",
            "        \"2017-09-07\": {\n",
            "            \"GBP\": 0.91403\n",
            "        },\n",
            "        \"2017-09-08\": {\n",
            "            \"GBP\": 0.91268\n",
            "        },\n",
            "        \"2017-09-11\": {\n",
            "            \"GBP\": 0.90775\n",
            "        },\n",
            "        \"2017-09-12\": {\n",
            "            \"GBP\": 0.89878\n",
            "        },\n",
            "        \"2017-09-13\": {\n",
            "            \"GBP\": 0.90243\n",
            "        },\n",
            "        \"2017-09-14\": {\n",
            "            \"GBP\": 0.89123\n",
            "        },\n",
            "        \"2017-09-15\": {\n",
            "            \"GBP\": 0.88043\n",
            "        },\n",
            "        \"2017-09-18\": {\n",
            "            \"GBP\": 0.88253\n",
            "        },\n",
            "        \"2017-09-19\": {\n",
            "            \"GBP\": 0.88622\n",
            "        },\n",
            "        \"2017-09-20\": {\n",
            "            \"GBP\": 0.8868\n",
            "        },\n",
            "        \"2017-09-21\": {\n",
            "            \"GBP\": 0.8824\n",
            "        },\n",
            "        \"2017-09-22\": {\n",
            "            \"GBP\": 0.88155\n",
            "        },\n",
            "        \"2017-09-25\": {\n",
            "            \"GBP\": 0.87938\n",
            "        },\n",
            "        \"2017-09-26\": {\n",
            "            \"GBP\": 0.87775\n",
            "        },\n",
            "        \"2017-09-27\": {\n",
            "            \"GBP\": 0.87565\n",
            "        },\n",
            "        \"2017-09-28\": {\n",
            "            \"GBP\": 0.87635\n",
            "        },\n",
            "        \"2017-09-29\": {\n",
            "            \"GBP\": 0.88178\n",
            "        },\n",
            "        \"2017-10-02\": {\n",
            "            \"GBP\": 0.88418\n",
            "        },\n",
            "        \"2017-10-03\": {\n",
            "            \"GBP\": 0.88793\n",
            "        },\n",
            "        \"2017-10-04\": {\n",
            "            \"GBP\": 0.88768\n",
            "        },\n",
            "        \"2017-10-05\": {\n",
            "            \"GBP\": 0.89153\n",
            "        },\n",
            "        \"2017-10-06\": {\n",
            "            \"GBP\": 0.89535\n",
            "        },\n",
            "        \"2017-10-09\": {\n",
            "            \"GBP\": 0.89195\n",
            "        },\n",
            "        \"2017-10-10\": {\n",
            "            \"GBP\": 0.8941\n",
            "        },\n",
            "        \"2017-10-11\": {\n",
            "            \"GBP\": 0.8971\n",
            "        },\n",
            "        \"2017-10-12\": {\n",
            "            \"GBP\": 0.90235\n",
            "        },\n",
            "        \"2017-10-13\": {\n",
            "            \"GBP\": 0.8898\n",
            "        },\n",
            "        \"2017-10-16\": {\n",
            "            \"GBP\": 0.88753\n",
            "        },\n",
            "        \"2017-10-17\": {\n",
            "            \"GBP\": 0.89148\n",
            "        },\n",
            "        \"2017-10-18\": {\n",
            "            \"GBP\": 0.89283\n",
            "        },\n",
            "        \"2017-10-19\": {\n",
            "            \"GBP\": 0.89815\n",
            "        },\n",
            "        \"2017-10-20\": {\n",
            "            \"GBP\": 0.89623\n",
            "        },\n",
            "        \"2017-10-23\": {\n",
            "            \"GBP\": 0.8909\n",
            "        },\n",
            "        \"2017-10-24\": {\n",
            "            \"GBP\": 0.89303\n",
            "        },\n",
            "        \"2017-10-25\": {\n",
            "            \"GBP\": 0.88883\n",
            "        },\n",
            "        \"2017-10-26\": {\n",
            "            \"GBP\": 0.8901\n",
            "        },\n",
            "        \"2017-10-27\": {\n",
            "            \"GBP\": 0.88633\n",
            "        },\n",
            "        \"2017-10-30\": {\n",
            "            \"GBP\": 0.8798\n",
            "        },\n",
            "        \"2017-10-31\": {\n",
            "            \"GBP\": 0.87853\n",
            "        },\n",
            "        \"2017-11-01\": {\n",
            "            \"GBP\": 0.87385\n",
            "        },\n",
            "        \"2017-11-02\": {\n",
            "            \"GBP\": 0.8869\n",
            "        },\n",
            "        \"2017-11-03\": {\n",
            "            \"GBP\": 0.88923\n",
            "        },\n",
            "        \"2017-11-06\": {\n",
            "            \"GBP\": 0.8839\n",
            "        },\n",
            "        \"2017-11-07\": {\n",
            "            \"GBP\": 0.88038\n",
            "        },\n",
            "        \"2017-11-08\": {\n",
            "            \"GBP\": 0.88405\n",
            "        },\n",
            "        \"2017-11-09\": {\n",
            "            \"GBP\": 0.88633\n",
            "        },\n",
            "        \"2017-11-10\": {\n",
            "            \"GBP\": 0.8837\n",
            "        },\n",
            "        \"2017-11-13\": {\n",
            "            \"GBP\": 0.89018\n",
            "        },\n",
            "        \"2017-11-14\": {\n",
            "            \"GBP\": 0.89585\n",
            "        },\n",
            "        \"2017-11-15\": {\n",
            "            \"GBP\": 0.8991\n",
            "        },\n",
            "        \"2017-11-16\": {\n",
            "            \"GBP\": 0.89183\n",
            "        },\n",
            "        \"2017-11-17\": {\n",
            "            \"GBP\": 0.89385\n",
            "        },\n",
            "        \"2017-11-20\": {\n",
            "            \"GBP\": 0.8894\n",
            "        },\n",
            "        \"2017-11-21\": {\n",
            "            \"GBP\": 0.88498\n",
            "        },\n",
            "        \"2017-11-22\": {\n",
            "            \"GBP\": 0.8881\n",
            "        },\n",
            "        \"2017-11-23\": {\n",
            "            \"GBP\": 0.89005\n",
            "        },\n",
            "        \"2017-11-24\": {\n",
            "            \"GBP\": 0.8912\n",
            "        },\n",
            "        \"2017-11-27\": {\n",
            "            \"GBP\": 0.89375\n",
            "        },\n",
            "        \"2017-11-28\": {\n",
            "            \"GBP\": 0.89538\n",
            "        },\n",
            "        \"2017-11-29\": {\n",
            "            \"GBP\": 0.88293\n",
            "        },\n",
            "        \"2017-11-30\": {\n",
            "            \"GBP\": 0.87985\n",
            "        },\n",
            "        \"2017-12-01\": {\n",
            "            \"GBP\": 0.88115\n",
            "        },\n",
            "        \"2017-12-04\": {\n",
            "            \"GBP\": 0.87725\n",
            "        },\n",
            "        \"2017-12-05\": {\n",
            "            \"GBP\": 0.88183\n",
            "        },\n",
            "        \"2017-12-06\": {\n",
            "            \"GBP\": 0.88335\n",
            "        },\n",
            "        \"2017-12-07\": {\n",
            "            \"GBP\": 0.88068\n",
            "        },\n",
            "        \"2017-12-08\": {\n",
            "            \"GBP\": 0.87525\n",
            "        },\n",
            "        \"2017-12-11\": {\n",
            "            \"GBP\": 0.8825\n",
            "        },\n",
            "        \"2017-12-12\": {\n",
            "            \"GBP\": 0.88068\n",
            "        },\n",
            "        \"2017-12-13\": {\n",
            "            \"GBP\": 0.87905\n",
            "        },\n",
            "        \"2017-12-14\": {\n",
            "            \"GBP\": 0.88163\n",
            "        },\n",
            "        \"2017-12-15\": {\n",
            "            \"GBP\": 0.88253\n",
            "        },\n",
            "        \"2017-12-18\": {\n",
            "            \"GBP\": 0.88208\n",
            "        },\n",
            "        \"2017-12-19\": {\n",
            "            \"GBP\": 0.885\n",
            "        },\n",
            "        \"2017-12-20\": {\n",
            "            \"GBP\": 0.8832\n",
            "        },\n",
            "        \"2017-12-21\": {\n",
            "            \"GBP\": 0.88763\n",
            "        },\n",
            "        \"2017-12-22\": {\n",
            "            \"GBP\": 0.88568\n",
            "        },\n",
            "        \"2017-12-27\": {\n",
            "            \"GBP\": 0.88593\n",
            "        },\n",
            "        \"2017-12-28\": {\n",
            "            \"GBP\": 0.88768\n",
            "        },\n",
            "        \"2017-12-29\": {\n",
            "            \"GBP\": 0.88723\n",
            "        },\n",
            "        \"2018-01-02\": {\n",
            "            \"GBP\": 0.88953\n",
            "        },\n",
            "        \"2018-01-03\": {\n",
            "            \"GBP\": 0.8864\n",
            "        },\n",
            "        \"2018-01-04\": {\n",
            "            \"GBP\": 0.89103\n",
            "        },\n",
            "        \"2018-01-05\": {\n",
            "            \"GBP\": 0.88883\n",
            "        },\n",
            "        \"2018-01-08\": {\n",
            "            \"GBP\": 0.88413\n",
            "        },\n",
            "        \"2018-01-09\": {\n",
            "            \"GBP\": 0.8827\n",
            "        },\n",
            "        \"2018-01-10\": {\n",
            "            \"GBP\": 0.8867\n",
            "        },\n",
            "        \"2018-01-11\": {\n",
            "            \"GBP\": 0.89075\n",
            "        },\n",
            "        \"2018-01-12\": {\n",
            "            \"GBP\": 0.88983\n",
            "        },\n",
            "        \"2018-01-15\": {\n",
            "            \"GBP\": 0.89043\n",
            "        },\n",
            "        \"2018-01-16\": {\n",
            "            \"GBP\": 0.8886\n",
            "        },\n",
            "        \"2018-01-17\": {\n",
            "            \"GBP\": 0.88568\n",
            "        },\n",
            "        \"2018-01-18\": {\n",
            "            \"GBP\": 0.88208\n",
            "        },\n",
            "        \"2018-01-19\": {\n",
            "            \"GBP\": 0.88365\n",
            "        },\n",
            "        \"2018-01-22\": {\n",
            "            \"GBP\": 0.88085\n",
            "        },\n",
            "        \"2018-01-23\": {\n",
            "            \"GBP\": 0.8783\n",
            "        },\n",
            "        \"2018-01-24\": {\n",
            "            \"GBP\": 0.87183\n",
            "        },\n",
            "        \"2018-01-25\": {\n",
            "            \"GBP\": 0.87038\n",
            "        },\n",
            "        \"2018-01-26\": {\n",
            "            \"GBP\": 0.87335\n",
            "        },\n",
            "        \"2018-01-29\": {\n",
            "            \"GBP\": 0.8794\n",
            "        },\n",
            "        \"2018-01-30\": {\n",
            "            \"GBP\": 0.8793\n",
            "        },\n",
            "        \"2018-01-31\": {\n",
            "            \"GBP\": 0.8791\n",
            "        },\n",
            "        \"2018-02-01\": {\n",
            "            \"GBP\": 0.8752\n",
            "        },\n",
            "        \"2018-02-02\": {\n",
            "            \"GBP\": 0.8785\n",
            "        },\n",
            "        \"2018-02-05\": {\n",
            "            \"GBP\": 0.88568\n",
            "        },\n",
            "        \"2018-02-06\": {\n",
            "            \"GBP\": 0.88885\n",
            "        },\n",
            "        \"2018-02-07\": {\n",
            "            \"GBP\": 0.88675\n",
            "        },\n",
            "        \"2018-02-08\": {\n",
            "            \"GBP\": 0.87513\n",
            "        },\n",
            "        \"2018-02-09\": {\n",
            "            \"GBP\": 0.8874\n",
            "        },\n",
            "        \"2018-02-12\": {\n",
            "            \"GBP\": 0.886\n",
            "        },\n",
            "        \"2018-02-13\": {\n",
            "            \"GBP\": 0.88935\n",
            "        },\n",
            "        \"2018-02-14\": {\n",
            "            \"GBP\": 0.8904\n",
            "        },\n",
            "        \"2018-02-15\": {\n",
            "            \"GBP\": 0.8866\n",
            "        },\n",
            "        \"2018-02-16\": {\n",
            "            \"GBP\": 0.88803\n",
            "        },\n",
            "        \"2018-02-19\": {\n",
            "            \"GBP\": 0.8859\n",
            "        },\n",
            "        \"2018-02-20\": {\n",
            "            \"GBP\": 0.88168\n",
            "        },\n",
            "        \"2018-02-21\": {\n",
            "            \"GBP\": 0.88463\n",
            "        },\n",
            "        \"2018-02-22\": {\n",
            "            \"GBP\": 0.88343\n",
            "        },\n",
            "        \"2018-02-23\": {\n",
            "            \"GBP\": 0.8794\n",
            "        },\n",
            "        \"2018-02-26\": {\n",
            "            \"GBP\": 0.8782\n",
            "        },\n",
            "        \"2018-02-27\": {\n",
            "            \"GBP\": 0.884\n",
            "        },\n",
            "        \"2018-02-28\": {\n",
            "            \"GBP\": 0.88415\n",
            "        },\n",
            "        \"2018-03-01\": {\n",
            "            \"GBP\": 0.8852\n",
            "        },\n",
            "        \"2018-03-02\": {\n",
            "            \"GBP\": 0.8932\n",
            "        },\n",
            "        \"2018-03-05\": {\n",
            "            \"GBP\": 0.8907\n",
            "        },\n",
            "        \"2018-03-06\": {\n",
            "            \"GBP\": 0.89165\n",
            "        },\n",
            "        \"2018-03-07\": {\n",
            "            \"GBP\": 0.89513\n",
            "        },\n",
            "        \"2018-03-08\": {\n",
            "            \"GBP\": 0.89465\n",
            "        },\n",
            "        \"2018-03-09\": {\n",
            "            \"GBP\": 0.88893\n",
            "        },\n",
            "        \"2018-03-12\": {\n",
            "            \"GBP\": 0.8859\n",
            "        },\n",
            "        \"2018-03-13\": {\n",
            "            \"GBP\": 0.8865\n",
            "        },\n",
            "        \"2018-03-14\": {\n",
            "            \"GBP\": 0.8863\n",
            "        },\n",
            "        \"2018-03-15\": {\n",
            "            \"GBP\": 0.8848\n",
            "        },\n",
            "        \"2018-03-16\": {\n",
            "            \"GBP\": 0.88253\n",
            "        },\n",
            "        \"2018-03-19\": {\n",
            "            \"GBP\": 0.87593\n",
            "        },\n",
            "        \"2018-03-20\": {\n",
            "            \"GBP\": 0.87715\n",
            "        },\n",
            "        \"2018-03-21\": {\n",
            "            \"GBP\": 0.87403\n",
            "        },\n",
            "        \"2018-03-22\": {\n",
            "            \"GBP\": 0.872\n",
            "        },\n",
            "        \"2018-03-23\": {\n",
            "            \"GBP\": 0.87285\n",
            "        },\n",
            "        \"2018-03-26\": {\n",
            "            \"GBP\": 0.87248\n",
            "        },\n",
            "        \"2018-03-27\": {\n",
            "            \"GBP\": 0.8794\n",
            "        },\n",
            "        \"2018-03-28\": {\n",
            "            \"GBP\": 0.87605\n",
            "        },\n",
            "        \"2018-03-29\": {\n",
            "            \"GBP\": 0.8749\n",
            "        },\n",
            "        \"2018-04-03\": {\n",
            "            \"GBP\": 0.87523\n",
            "        },\n",
            "        \"2018-04-04\": {\n",
            "            \"GBP\": 0.87573\n",
            "        },\n",
            "        \"2018-04-05\": {\n",
            "            \"GBP\": 0.87395\n",
            "        },\n",
            "        \"2018-04-06\": {\n",
            "            \"GBP\": 0.87295\n",
            "        },\n",
            "        \"2018-04-09\": {\n",
            "            \"GBP\": 0.87088\n",
            "        },\n",
            "        \"2018-04-10\": {\n",
            "            \"GBP\": 0.87183\n",
            "        },\n",
            "        \"2018-04-11\": {\n",
            "            \"GBP\": 0.8736\n",
            "        },\n",
            "        \"2018-04-12\": {\n",
            "            \"GBP\": 0.86745\n",
            "        },\n",
            "        \"2018-04-13\": {\n",
            "            \"GBP\": 0.864\n",
            "        },\n",
            "        \"2018-04-16\": {\n",
            "            \"GBP\": 0.86465\n",
            "        },\n",
            "        \"2018-04-17\": {\n",
            "            \"GBP\": 0.8628\n",
            "        },\n",
            "        \"2018-04-18\": {\n",
            "            \"GBP\": 0.87105\n",
            "        },\n",
            "        \"2018-04-19\": {\n",
            "            \"GBP\": 0.86975\n",
            "        },\n",
            "        \"2018-04-20\": {\n",
            "            \"GBP\": 0.87608\n",
            "        },\n",
            "        \"2018-04-23\": {\n",
            "            \"GBP\": 0.8764\n",
            "        },\n",
            "        \"2018-04-24\": {\n",
            "            \"GBP\": 0.87468\n",
            "        },\n",
            "        \"2018-04-25\": {\n",
            "            \"GBP\": 0.8738\n",
            "        },\n",
            "        \"2018-04-26\": {\n",
            "            \"GBP\": 0.871\n",
            "        }\n",
            "    },\n",
            "    \"start_at\": \"2017-04-26\"\n",
            "}\n"
          ],
          "name": "stdout"
        }
      ]
    },
    {
      "cell_type": "markdown",
      "metadata": {
        "id": "eVUizmUZz2fc",
        "colab_type": "text"
      },
      "source": [
        "### Testing the API response to incorrect input"
      ]
    },
    {
      "cell_type": "code",
      "metadata": {
        "id": "LoA59Dqgzox-",
        "colab_type": "code",
        "colab": {}
      },
      "source": [
        "# Testing how the API behaves if given incorrect input parameters\n",
        "\n",
        "# Trying out an invalid DATE\n",
        "invalid_url = base_url + \"/2019-13-01\""
      ],
      "execution_count": 0,
      "outputs": []
    },
    {
      "cell_type": "code",
      "metadata": {
        "id": "Tm8-8tCIz9P9",
        "colab_type": "code",
        "outputId": "15466847-1f5b-4a6d-830c-92048f74e005",
        "colab": {
          "base_uri": "https://localhost:8080/",
          "height": 35
        }
      },
      "source": [
        "# Making the request\n",
        "response = requests.get(invalid_url)\n",
        "response.status_code\n",
        "\n",
        "# The server responds with a 400 error code indicating a 'bad request'"
      ],
      "execution_count": 0,
      "outputs": [
        {
          "output_type": "execute_result",
          "data": {
            "text/plain": [
              "400"
            ]
          },
          "metadata": {
            "tags": []
          },
          "execution_count": 45
        }
      ]
    },
    {
      "cell_type": "code",
      "metadata": {
        "id": "dQeElFdGz_Wd",
        "colab_type": "code",
        "outputId": "5aec390e-627d-41e7-f9eb-d3e81ea9443a",
        "colab": {
          "base_uri": "https://localhost:8080/",
          "height": 35
        }
      },
      "source": [
        "# There is also an error message in the JSON\n",
        "response.json()"
      ],
      "execution_count": 0,
      "outputs": [
        {
          "output_type": "execute_result",
          "data": {
            "text/plain": [
              "{'error': \"time data '2019-13-01' does not match format '%Y-%m-%d'\"}"
            ]
          },
          "metadata": {
            "tags": []
          },
          "execution_count": 46
        }
      ]
    },
    {
      "cell_type": "code",
      "metadata": {
        "id": "vsTt_8Zp0CfS",
        "colab_type": "code",
        "colab": {}
      },
      "source": [
        "# Testing an invalid BASE CURRENCY\n",
        "invalid_url = base_url + \"/2019-12-01?base=USB\""
      ],
      "execution_count": 0,
      "outputs": []
    },
    {
      "cell_type": "code",
      "metadata": {
        "id": "5a8ebrH00I0t",
        "colab_type": "code",
        "outputId": "2f0c6b90-d4d5-4bd6-d10a-dca5cc36676c",
        "colab": {
          "base_uri": "https://localhost:8080/",
          "height": 35
        }
      },
      "source": [
        "response = requests.get(invalid_url)\n",
        "response.status_code"
      ],
      "execution_count": 0,
      "outputs": [
        {
          "output_type": "execute_result",
          "data": {
            "text/plain": [
              "400"
            ]
          },
          "metadata": {
            "tags": []
          },
          "execution_count": 48
        }
      ]
    },
    {
      "cell_type": "code",
      "metadata": {
        "id": "XWcZVZwT0LcG",
        "colab_type": "code",
        "outputId": "5142fe7f-97aa-468c-ba51-8d099d31e4ea",
        "colab": {
          "base_uri": "https://localhost:8080/",
          "height": 35
        }
      },
      "source": [
        "# There is also an error message in the JSON\n",
        "response.json()"
      ],
      "execution_count": 0,
      "outputs": [
        {
          "output_type": "execute_result",
          "data": {
            "text/plain": [
              "{'error': \"Base 'USB' is not supported.\"}"
            ]
          },
          "metadata": {
            "tags": []
          },
          "execution_count": 49
        }
      ]
    },
    {
      "cell_type": "code",
      "metadata": {
        "id": "w51rRBOQ0Mll",
        "colab_type": "code",
        "colab": {}
      },
      "source": [
        "# Testing an invalid EXCHANGE CURRENCY\n",
        "invalid_url = base_url + \"/2019-12-01?symbols=WBP\""
      ],
      "execution_count": 0,
      "outputs": []
    },
    {
      "cell_type": "code",
      "metadata": {
        "id": "EAXD5VOq0Qit",
        "colab_type": "code",
        "outputId": "6b4c178a-d4de-4c31-806d-518eab8372c9",
        "colab": {
          "base_uri": "https://localhost:8080/",
          "height": 35
        }
      },
      "source": [
        "response = requests.get(invalid_url)\n",
        "response.status_code"
      ],
      "execution_count": 0,
      "outputs": [
        {
          "output_type": "execute_result",
          "data": {
            "text/plain": [
              "400"
            ]
          },
          "metadata": {
            "tags": []
          },
          "execution_count": 51
        }
      ]
    },
    {
      "cell_type": "code",
      "metadata": {
        "id": "1X4RrUk10SKH",
        "colab_type": "code",
        "outputId": "752f074b-7711-4461-842a-cedceba59b97",
        "colab": {
          "base_uri": "https://localhost:8080/",
          "height": 35
        }
      },
      "source": [
        "# There is also an error message in the JSON\n",
        "response.json()"
      ],
      "execution_count": 0,
      "outputs": [
        {
          "output_type": "execute_result",
          "data": {
            "text/plain": [
              "{'error': \"Symbols 'WBP' are invalid for date 2019-12-01.\"}"
            ]
          },
          "metadata": {
            "tags": []
          },
          "execution_count": 52
        }
      ]
    },
    {
      "cell_type": "markdown",
      "metadata": {
        "id": "_7CyZDCT0ZBq",
        "colab_type": "text"
      },
      "source": [
        "## Finally:\n",
        "### Creating a simple currency convertor"
      ]
    },
    {
      "cell_type": "code",
      "metadata": {
        "id": "2JbXCrRz0WRu",
        "colab_type": "code",
        "outputId": "9c2510af-f8e9-4709-fc26-c807a49c8499",
        "colab": {
          "base_uri": "https://localhost:8080/",
          "height": 123
        }
      },
      "source": [
        "# We can use the data provided from this API to create a simple currency convertor\n",
        "\n",
        "# Gathering input parameters from the user\n",
        "date = input(\"Please enter the date (in the format 'yyyy-mm-dd' or 'latest'): \")\n",
        "base = input(\"Convert from (currency): \")\n",
        "curr = input(\"Convert to (currency): \")\n",
        "quan = float(input(\"How much {} do you want to convert: \".format(base)))\n",
        "\n",
        "# Constructing the URL based on the user parameters and sending a request to the server\n",
        "url = base_url + \"/\" + date + \"?base=\" + base + \"&symbols=\" + curr\n",
        "response = requests.get(url)\n",
        "\n",
        "# Displaying the error message, if something went wrong\n",
        "if(response.ok is False):\n",
        "    print(\"\\nError {}:\".format(response.status_code))\n",
        "    print(response.json()['error'])\n",
        "\n",
        "else:\n",
        "    data = response.json()\n",
        "    rate = data['rates'][curr]\n",
        "    \n",
        "    result = quan*rate\n",
        "    \n",
        "    print(\"\\n{0} {1} is equal to {2} {3}, based upon exchange rates on {4}\".format(quan,base,result,curr,data['date']))\n"
      ],
      "execution_count": 0,
      "outputs": [
        {
          "output_type": "stream",
          "text": [
            "Please enter the date (in the format 'yyyy-mm-dd' or 'latest'): 2010-04-01\n",
            "Convert from (currency): USD\n",
            "Convert to (currency): INR\n",
            "How much USD do you want to convert: 1\n",
            "\n",
            "1.0 USD is equal to 44.7000297 INR, based upon exchange rates on 2010-04-01\n"
          ],
          "name": "stdout"
        }
      ]
    }
  ]
}